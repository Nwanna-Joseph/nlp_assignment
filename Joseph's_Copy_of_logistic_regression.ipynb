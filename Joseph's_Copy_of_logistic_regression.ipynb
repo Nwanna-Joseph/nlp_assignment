{
  "cells": [
    {
      "cell_type": "markdown",
      "metadata": {
        "id": "view-in-github",
        "colab_type": "text"
      },
      "source": [
        "<a href=\"https://colab.research.google.com/github/Nwanna-Joseph/nlp_week_1_solution/blob/week1/Joseph's_Copy_of_logistic_regression.ipynb\" target=\"_parent\"><img src=\"https://colab.research.google.com/assets/colab-badge.svg\" alt=\"Open In Colab\"/></a>"
      ]
    },
    {
      "cell_type": "markdown",
      "metadata": {
        "id": "PU5EBreqTX9X"
      },
      "source": [
        "In this second part of the lab, we will implement a language identifier trained on the same data, but using Logistic Regression instead of Naive Bayes."
      ]
    },
    {
      "cell_type": "code",
      "execution_count": 57,
      "metadata": {
        "id": "GrqvEG7dTX9Z"
      },
      "outputs": [],
      "source": [
        "import io, sys, math\n",
        "import numpy as np\n",
        "from collections import defaultdict\n",
        "import matplotlib.pyplot as plt"
      ]
    },
    {
      "cell_type": "markdown",
      "metadata": {
        "id": "Lekgm7GdTX9a"
      },
      "source": [
        "This function is used to build the dictionary, or vocabulary, which is a mapping from strings (or words) to integers (or indices). This will allow to build vector representations of documents. "
      ]
    },
    {
      "cell_type": "code",
      "source": [
        "!rm train1.txt train2.txt valid1.txt valid2.txt __MACOSX/._valid2.txt __MACOSX/._valid1.txt __MACOSX/._train2.txt __MACOSX/._train1.txt\n",
        "!wget -O save.zip https://github.com/Nwanna-Joseph/nlp_week_1_solution/blob/week1/data.zip?raw=true\n",
        "!unzip save.zip\n",
        "!rm save.zip"
      ],
      "metadata": {
        "colab": {
          "base_uri": "https://localhost:8080/"
        },
        "id": "hAO56IeGwldm",
        "outputId": "5ad8383f-54c0-41cf-81c9-e5b6b920f3ac"
      },
      "execution_count": 13,
      "outputs": [
        {
          "output_type": "stream",
          "name": "stdout",
          "text": [
            "--2022-05-16 14:00:21--  https://github.com/Nwanna-Joseph/nlp_week_1_solution/blob/week1/data.zip?raw=true\n",
            "Resolving github.com (github.com)... 140.82.114.4\n",
            "Connecting to github.com (github.com)|140.82.114.4|:443... connected.\n",
            "HTTP request sent, awaiting response... 302 Found\n",
            "Location: https://github.com/Nwanna-Joseph/nlp_week_1_solution/raw/week1/data.zip [following]\n",
            "--2022-05-16 14:00:21--  https://github.com/Nwanna-Joseph/nlp_week_1_solution/raw/week1/data.zip\n",
            "Reusing existing connection to github.com:443.\n",
            "HTTP request sent, awaiting response... 302 Found\n",
            "Location: https://raw.githubusercontent.com/Nwanna-Joseph/nlp_week_1_solution/week1/data.zip [following]\n",
            "--2022-05-16 14:00:22--  https://raw.githubusercontent.com/Nwanna-Joseph/nlp_week_1_solution/week1/data.zip\n",
            "Resolving raw.githubusercontent.com (raw.githubusercontent.com)... 185.199.108.133, 185.199.109.133, 185.199.110.133, ...\n",
            "Connecting to raw.githubusercontent.com (raw.githubusercontent.com)|185.199.108.133|:443... connected.\n",
            "HTTP request sent, awaiting response... 200 OK\n",
            "Length: 2541811 (2.4M) [application/zip]\n",
            "Saving to: ‘save.zip’\n",
            "\n",
            "save.zip            100%[===================>]   2.42M  --.-KB/s    in 0.06s   \n",
            "\n",
            "2022-05-16 14:00:22 (37.8 MB/s) - ‘save.zip’ saved [2541811/2541811]\n",
            "\n",
            "Archive:  save.zip\n",
            "  inflating: valid2.txt              \n",
            "  inflating: __MACOSX/._valid2.txt   \n",
            "  inflating: valid1.txt              \n",
            "  inflating: __MACOSX/._valid1.txt   \n",
            "  inflating: train2.txt              \n",
            "  inflating: __MACOSX/._train2.txt   \n",
            "  inflating: train1.txt              \n",
            "  inflating: __MACOSX/._train1.txt   \n"
          ]
        }
      ]
    },
    {
      "cell_type": "code",
      "execution_count": 14,
      "metadata": {
        "id": "FWLkp40RTX9a"
      },
      "outputs": [],
      "source": [
        "def build_dict(filename, threshold=1):\n",
        "    fin = io.open(filename, 'r', encoding='utf-8')\n",
        "    word_dict, label_dict = {}, {}\n",
        "    counts = defaultdict(lambda: 0)\n",
        "    for line in fin:\n",
        "        tokens = line.split()\n",
        "        label = tokens[0] #ie __label__it\n",
        "        \n",
        "\n",
        "        if not label in label_dict:\n",
        "            label_dict[label] = len(label_dict) #add label (ie __label__it) to dictionary of labels and assign a value of it's index to it\n",
        "\n",
        "        for w in tokens[1:]: # for the remianing words after the first\n",
        "            counts[w] += 1 # word[i]++ ie counts['car'] = counts['car']++. Increment count of car by 1\n",
        "            \n",
        "    for k, v in counts.items(): # k = word, v = frequency\n",
        "        if v > threshold: #only words with frequency above a certain threshold are processed\n",
        "            word_dict[k] = len(word_dict) # add the word to word-dict indexed by word and value = it's position in the list\n",
        "    return word_dict, label_dict"
      ]
    },
    {
      "cell_type": "markdown",
      "metadata": {
        "id": "aSQUeb_ATX9b"
      },
      "source": [
        "This function is used to load the training dataset, and build vector representations of the training examples. In particular, a document or sentence is represented as a bag of words. Each example correspond to a sparse vector ` x` of dimension `V`, where `V` is the size of the vocabulary. The element `j` of the vector `x` is the number of times the word `j` appears in the document."
      ]
    },
    {
      "cell_type": "code",
      "execution_count": 15,
      "metadata": {
        "id": "Qv3cLjCaTX9b"
      },
      "outputs": [],
      "source": [
        "def load_data(filename, word_dict, label_dict):\n",
        "    fin = io.open(filename, 'r', encoding='utf-8')\n",
        "    data = []\n",
        "    dim = len(word_dict)\n",
        "    for line in fin:\n",
        "        tokens = line.split()\n",
        "        label = tokens[0] #ie __label__it\n",
        "\n",
        "        yi = label_dict[label]\n",
        "        xi = np.zeros(dim)\n",
        "        for word in tokens[1:]:\n",
        "            if word in word_dict:\n",
        "                wid = word_dict[word]\n",
        "                xi[wid] += 1.0\n",
        "        data.append((yi, xi))\n",
        "    return data"
      ]
    },
    {
      "cell_type": "code",
      "source": [
        "file_name = \"train1.txt\"\n",
        "word_dict = build_dict(file_name)\n",
        "data_loader = load_data(file_name,word_dict[0],word_dict[1])"
      ],
      "metadata": {
        "id": "uR5SDhNDzIKK"
      },
      "execution_count": 16,
      "outputs": []
    },
    {
      "cell_type": "code",
      "source": [
        "print(f\"Dimension of data => [{len(data_loader)} samples x {len(data_loader[0][1])} features (aka unique words)] \")"
      ],
      "metadata": {
        "colab": {
          "base_uri": "https://localhost:8080/"
        },
        "id": "5A0Vla0vznZM",
        "outputId": "b51a2a95-0834-4682-cb2a-e57a86382b91"
      },
      "execution_count": 17,
      "outputs": [
        {
          "output_type": "stream",
          "name": "stdout",
          "text": [
            "Dimension of data => [10000 samples x 5826 features (aka unique words)] \n"
          ]
        }
      ]
    },
    {
      "cell_type": "code",
      "source": [
        "data_loader"
      ],
      "metadata": {
        "id": "AkLbSacLzcSJ"
      },
      "execution_count": null,
      "outputs": []
    },
    {
      "cell_type": "markdown",
      "metadata": {
        "id": "XwjR009CTX9b"
      },
      "source": [
        "First, let's implement the softmax function. Don't forget numerical stability!"
      ]
    },
    {
      "cell_type": "code",
      "execution_count": 19,
      "metadata": {
        "id": "rKRiJz1dTX9c"
      },
      "outputs": [],
      "source": [
        "#https://docs.scipy.org/doc/scipy/reference/generated/scipy.special.softmax.html\n",
        "\n",
        "def softmax(x):\n",
        "  _in_exp = np.exp(x)\n",
        "  max_indx = np.argmax(_in_exp)\n",
        "  num = _in_exp - _in_exp[max_indx]\n",
        "  denom = np.sum(num)\n",
        "  return num / denom"
      ]
    },
    {
      "cell_type": "code",
      "source": [
        "softmax(np.array([-1, 0, 1]))"
      ],
      "metadata": {
        "colab": {
          "base_uri": "https://localhost:8080/"
        },
        "id": "lPIso7iMl17D",
        "outputId": "36cd62d4-8a97-4597-e878-01a45f0e5179"
      },
      "execution_count": 20,
      "outputs": [
        {
          "output_type": "execute_result",
          "data": {
            "text/plain": [
              "array([ 0.5776812,  0.4223188, -0.       ])"
            ]
          },
          "metadata": {},
          "execution_count": 20
        }
      ]
    },
    {
      "cell_type": "markdown",
      "metadata": {
        "id": "uQczbOQ7TX9c"
      },
      "source": [
        "Now, let's implement the main training loop, by using stochastic gradient descent. The function will iterate over the examples of the training set. For each example, we will first compute the loss, before computing the gradient and performing the update."
      ]
    },
    {
      "cell_type": "code",
      "execution_count": 65,
      "metadata": {
        "id": "klf8ARx1TX9c"
      },
      "outputs": [],
      "source": [
        "from matplotlib.ticker import IndexLocator\n",
        "def sgd(w, data, niter):\n",
        "\n",
        "  def predict(weight,X):\n",
        "    return 1/(1 + np.exp( (X@weight) * -1 ))\n",
        "  \n",
        "  def calculate_loss(Y_actual,Y_prediction):\n",
        "    # print(Y_actual.shape,Y_prediction.shape)\n",
        "    return (np.sum( (Y_actual * np.log(Y_prediction)) + ( (1-Y_actual) * np.log(1-Y_prediction) ) ))/(len(Y_actual) * -1)\n",
        "    \n",
        "  def calculate_gradient(X, Y_actual, Y_prediction):\n",
        "    return X.T @ (Y_prediction - Y_actual)\n",
        "\n",
        "  lr = 0.00000001\n",
        "  losses = []\n",
        "\n",
        "  for iter in range(niter):\n",
        "      for idx,each_batch in enumerate([data]):\n",
        "        Y = np.array([_y[0] for _y in each_batch])\n",
        "        Y = Y.reshape(Y.shape[0],-1)\n",
        "        X = np.array([_x[1] for _x in each_batch])\n",
        "        X = X.reshape(X.shape[0],-1) # not necessary. Dimensions remain the same\n",
        "        Y_pred = predict(w,X)\n",
        "        loss = calculate_loss(Y, Y_pred)\n",
        "        losses.append(loss)\n",
        "        if(loss < 0.00):\n",
        "          return w, losses\n",
        "        print(f\"Loss [epoch = {iter}], [batch = {idx}] = {loss}\")\n",
        "        step_size = calculate_gradient(X,Y,Y_pred)\n",
        "        w -= lr * step_size\n",
        "\n",
        "\n",
        "  return w, losses\n",
        "\n"
      ]
    },
    {
      "cell_type": "markdown",
      "metadata": {
        "id": "wyV4tPLwTX9d"
      },
      "source": [
        "The next function will predict the most probable label corresponding to example `x`, given the trained classifier `w`."
      ]
    },
    {
      "cell_type": "markdown",
      "metadata": {
        "id": "OQx3dE2TTX9d"
      },
      "source": [
        "Finally, this function will compute the accuracy of a trained classifier `w` on a validation set."
      ]
    },
    {
      "cell_type": "code",
      "execution_count": 63,
      "metadata": {
        "id": "sevRE3T9TX9d"
      },
      "outputs": [],
      "source": [
        "def compute_accuracy(w, data):\n",
        "  def predict(weight,X):\n",
        "    return 1/(1 + np.exp( (X@weight) * -1 ))\n",
        "\n",
        "  c=0\n",
        "  x_test = np.array([_x[1] for _x in data])\n",
        "  x_test = x_test.reshape(x_test.shape[0],-1)\n",
        "  y_test = np.array([_y[0] for _y in data])\n",
        "  y_test = y_test.reshape(y_test.shape[0],-1)\n",
        "\n",
        "  y_pred=predict(w,x_test)\n",
        "  print(y_pred.shape,y_test.shape)\n",
        "  for i in range(len(y_test)):\n",
        "    if np.argmax(softmax(y_pred[i])) == y_test[i]:\n",
        "      c+=1\n",
        "  return c/len(y_test)\n",
        "    ## FILL CODE"
      ]
    },
    {
      "cell_type": "code",
      "execution_count": null,
      "metadata": {
        "id": "aG0ohIxyTX9d"
      },
      "outputs": [],
      "source": [
        "print(\"\")\n",
        "print(\"** Logistic Regression **\")\n",
        "print(\"\")\n",
        "\n",
        "word_dict, label_dict = build_dict(\"train1.txt\")\n",
        "train_data = load_data(\"train1.txt\", word_dict, label_dict)\n",
        "valid_data = load_data(\"valid1.txt\", word_dict, label_dict)\n",
        "\n",
        "nlabels = len(label_dict)\n",
        "dim = len(word_dict)\n",
        "\n",
        "print(f\"Labels = {nlabels}, Features = {dim}\")\n",
        "w = np.zeros([dim,nlabels])\n",
        "w, losses = sgd(w, train_data, 5000)\n",
        "print(\"\")\n",
        "print(\"Validation accuracy: %.3f\" % compute_accuracy(w, valid_data))\n",
        "print(\"\")\n"
      ]
    },
    {
      "cell_type": "code",
      "source": [
        "plt.title(\"Loss\")\n",
        "plt.plot(losses)\n",
        "plt.show()"
      ],
      "metadata": {
        "id": "2rAM9K6Dwwy8",
        "colab": {
          "base_uri": "https://localhost:8080/",
          "height": 281
        },
        "outputId": "1cc93f9c-403e-4f49-e829-6156d5fec73b"
      },
      "execution_count": 67,
      "outputs": [
        {
          "output_type": "display_data",
          "data": {
            "text/plain": [
              "<Figure size 432x288 with 1 Axes>"
            ],
            "image/png": "[encoded data removed]"
          },
          "metadata": {
            "needs_background": "light"
          }
        }
      ]
    }
  ],
  "metadata": {
    "kernelspec": {
      "display_name": "Python 3",
      "language": "python",
      "name": "python3"
    },
    "language_info": {
      "codemirror_mode": {
        "name": "ipython",
        "version": 3
      },
      "file_extension": ".py",
      "mimetype": "text/x-python",
      "name": "python",
      "nbconvert_exporter": "python",
      "pygments_lexer": "ipython3",
      "version": "3.6.2+"
    },
    "colab": {
      "name": "Joseph's Copy of logistic_regression.ipynb",
      "provenance": [],
      "include_colab_link": true
    }
  },
  "nbformat": 4,
  "nbformat_minor": 0
}